{
  "nbformat": 4,
  "nbformat_minor": 0,
  "metadata": {
    "colab": {
      "provenance": [],
      "authorship_tag": "ABX9TyNpoNWZey26xr2zkkRzbgxi",
      "include_colab_link": true
    },
    "kernelspec": {
      "name": "python3",
      "display_name": "Python 3"
    },
    "language_info": {
      "name": "python"
    }
  },
  "cells": [
    {
      "cell_type": "markdown",
      "metadata": {
        "id": "view-in-github",
        "colab_type": "text"
      },
      "source": [
        "<a href=\"https://colab.research.google.com/github/ny-dev-mode/mazeproof/blob/main/mazeproof.ipynb\" target=\"_parent\"><img src=\"https://colab.research.google.com/assets/colab-badge.svg\" alt=\"Open In Colab\"/></a>"
      ]
    },
    {
      "cell_type": "code",
      "source": [
        "from google.colab import userdata\n",
        "import os\n",
        "\n",
        "os.environ[\"MY_API_KEY\"] = userdata.get(\"MY_API_KEY\")\n"
      ],
      "metadata": {
        "id": "MhqHUlftaa5p"
      },
      "execution_count": null,
      "outputs": []
    },
    {
      "cell_type": "code",
      "execution_count": null,
      "metadata": {
        "id": "WrEd_P_Fss_D"
      },
      "outputs": [],
      "source": [
        "import json\n",
        "\n",
        "competency_json = {\n",
        "  \"competency_model\": {\n",
        "    \"title\": \"Ideal L&D Manager Competency Framework\",\n",
        "    \"categories\": {\n",
        "      \"Strategic\": [\n",
        "        \"Business-Aligned Learning Strategy\",\n",
        "        \"Competency Architecture\",\n",
        "        \"Organizational Diagnosis & Learning Analytics\"\n",
        "      ],\n",
        "      \"Financial\": [\n",
        "        \"ROI-Centric Program Design\",\n",
        "        \"GMP / Compliance-Embedded Learning\",\n",
        "        \"Performance Gap Cost Estimation\"\n",
        "      ],\n",
        "      \"Cognitive\": [\n",
        "        \"Adult Learning Facilitation\",\n",
        "        \"Semantic Reasoning & Concept Mapping\",\n",
        "        \"Cross-Domain Knowledge Transfer\"\n",
        "      ],\n",
        "      \"Technological\": [\n",
        "        \"AI-Augmented Assessment Design\",\n",
        "        \"Power BI / Data Visualization for L&D\",\n",
        "        \"Platform Agility (LMS / API / Microlearning)\"\n",
        "      ],\n",
        "      \"Communicative\": [\n",
        "        \"Leadership Coaching & Mentoring\",\n",
        "        \"Strategic Messaging in Learning\",\n",
        "        \"Stakeholder Alignment & Buy-In\"\n",
        "      ],\n",
        "      \"Behavioral\": [\n",
        "        \"Systems Thinking\",\n",
        "        \"Strategic Patience\",\n",
        "        \"Ethical Reasoning in EdTech\"\n",
        "      ]\n",
        "    },\n",
        "    \"language\": \"EN\",\n",
        "    \"context\": \"Competency framework for evaluating L&D professionals contributing to measurable business impact. Each competency will be analyzed semantically with observable traits and growth suggestions.\"\n",
        "  }\n",
        "}\n",
        "\n",
        "# Вывод списка компетенций\n",
        "for category, items in competency_json[\"competency_model\"][\"categories\"].items():\n",
        "    print(f\"\\n🔹 {category} Competencies:\")\n",
        "    for competency in items:\n",
        "        print(f\"– {competency}\")\n"
      ]
    },
    {
      "cell_type": "code",
      "source": [
        "def generate_prompt(competency):\n",
        "    return f\"\"\"\n",
        "You are an AI model trained to evaluate adult professional competencies in organizational development contexts.\n",
        "\n",
        "Evaluate the following strategic competency: \"{competency}\"\n",
        "Mission: Explore how a well-structured competency architecture serves as an interface between business strategy, role clarity, and workforce development impact.\n",
        "\n",
        "Your output must include:\n",
        "1. A semantic definition of this architecture, including levels, clusters, and its linkage to role modeling, performance frameworks, and skill pipelines\n",
        "2. Observable organizational behaviors and systems that reflect the use and maintenance of this architecture (recruitment, development, promotion)\n",
        "3. Common design failures: inconsistency, lack of operational anchoring, poor cross-functional mapping — and how these impact learning ROI\n",
        "4. Strategic actions to increase the clarity, measurability, and adaptive value of the architecture across business units\n",
        "\n",
        "Important:\n",
        "– Use systems thinking and language suited to senior HR strategists, learning architects, and business leaders\n",
        "– Be precise and grounded in organizational dynamics\n",
        "– Your tone must reflect structural clarity and ethical coherence, as if advising an executive board\n",
        "\"\"\"\n"
      ],
      "metadata": {
        "id": "RueWmOpZ_5l4"
      },
      "execution_count": null,
      "outputs": []
    },
    {
      "cell_type": "code",
      "source": [
        "output = query_model(generate_prompt(\"Competency Architecture\"))\n",
        "print(output)\n"
      ],
      "metadata": {
        "id": "wQC_oBNdAFnX"
      },
      "execution_count": null,
      "outputs": []
    },
    {
      "cell_type": "code",
      "source": [
        "def generate_prompt(competency):\n",
        "    return f\"\"\"\n",
        "You are an AI model trained to evaluate adult professional competencies in organizational learning and development.\n",
        "\n",
        "Evaluate the following strategic competency: \"{competency}\"\n",
        "Mission: Analyze how diagnostic thinking and learning analytics improve organizational insight, agility, and business value.\n",
        "\n",
        "Your output must include:\n",
        "1. A semantic definition of this competency in applied settings: how diagnostic practices and analytics frameworks are used to detect patterns, gaps, and strategic learning needs\n",
        "2. Observable behaviors and data-driven habits of professionals and systems that show effective use of organizational diagnosis\n",
        "3. Common misuses or limitations of diagnosis and analytics — such as data without action, over-reliance on reporting, or failure to interpret behavioral signals — and how these reduce ROI\n",
        "4. Strategic actions to increase ethical insight generation, predictive learning value, and alignment of analytics with talent development and organizational priorities\n",
        "\n",
        "Important:\n",
        "– Use language suitable for senior L&D strategists, HR analysts, and learning consultants\n",
        "– Anchor your answer in real-world organizational dynamics, not technical abstraction\n",
        "– Your tone must reflect analytical clarity, business relevance, and ethical awareness\n",
        "\"\"\"\n"
      ],
      "metadata": {
        "id": "CAWIaZi5Amed"
      },
      "execution_count": null,
      "outputs": []
    },
    {
      "cell_type": "code",
      "source": [
        "output = query_model(generate_prompt(\"Organizational Diagnosis & Learning Analytics\"))\n",
        "print(output)\n"
      ],
      "metadata": {
        "id": "JFMwZ7jcAqKH"
      },
      "execution_count": null,
      "outputs": []
    },
    {
      "cell_type": "code",
      "source": [
        "def generate_prompt(competency):\n",
        "    return f\"\"\"\n",
        "You are an AI model trained to evaluate adult professional competencies in corporate learning and program strategy.\n",
        "\n",
        "Evaluate the following financial competency: \"{competency}\"\n",
        "Mission: Analyze how learning programs can be designed with measurable ROI as a core outcome and strategic driver.\n",
        "\n",
        "Your output must include:\n",
        "1. A semantic definition of ROI-centric design: how it differs from generic instructional planning, and its integration with business metrics\n",
        "2. Observable design principles and stakeholder behaviors that reflect a focus on ROI: budgeting, performance linkage, feedback loops\n",
        "3. Typical misalignments — such as overinvestment without outcomes, lack of stakeholder buy-in, or measuring learning without business impact — and their effect on financial credibility\n",
        "4. Strategic actions to enhance ROI orientation: planning frameworks, cross-functional involvement, precision in goal setting and measurement\n",
        "\n",
        "Important:\n",
        "– Use language suitable for L&D strategists, CFOs, and business leaders who assess program value\n",
        "– Anchor insights in organizational planning cycles and financial reasoning\n",
        "– Your tone must reflect strategic clarity, ethical accountability, and practical outcome design\n",
        "\"\"\"\n"
      ],
      "metadata": {
        "id": "1gPCH88zA2NN"
      },
      "execution_count": null,
      "outputs": []
    },
    {
      "cell_type": "code",
      "source": [
        "output = query_model(generate_prompt(\"ROI-Centric Program Design\"))\n",
        "print(output)\n"
      ],
      "metadata": {
        "id": "dpYVMNCuA6tf"
      },
      "execution_count": null,
      "outputs": []
    },
    {
      "cell_type": "code",
      "source": [
        "def generate_prompt(competency):\n",
        "    return f\"\"\"\n",
        "You are an AI model trained to evaluate adult professional competencies in regulated learning environments.\n",
        "\n",
        "Evaluate the following compliance-related competency: \"{competency}\"\n",
        "Mission: Explore how learning programs can be designed to embed GMP standards and regulatory compliance into workforce behavior and operational culture.\n",
        "\n",
        "Your output must include:\n",
        "1. Semantic definition: how compliance-embedded learning differs from generic training, and its role in safety, accountability, and legal alignment\n",
        "2. Observable organizational markers of effective compliance integration: documentation behaviors, audit preparedness, risk awareness\n",
        "3. Misalignments or weak implementations: checkbox learning, lack of contextualization, disengagement — and how these undermine compliance credibility and risk management\n",
        "4. Strategic actions: how to co-design training with regulatory units, reinforce GMP culture, and link learning to measurable compliance indicators\n",
        "\n",
        "Important:\n",
        "– Use clear, regulatory-aware language suitable for learning professionals, compliance officers, and operational leaders\n",
        "– Ground your answer in real institutional dynamics — manufacturing, pharma, HR compliance\n",
        "– Your tone must reflect ethical precision and professional responsibility\n",
        "\"\"\"\n"
      ],
      "metadata": {
        "id": "pZB3Y6ylBNIn"
      },
      "execution_count": null,
      "outputs": []
    },
    {
      "cell_type": "code",
      "source": [
        "output = query_model(generate_prompt(\"GMP / Compliance-Embedded Learning\"))\n",
        "print(output)\n"
      ],
      "metadata": {
        "id": "mC4FMerkBRPn"
      },
      "execution_count": null,
      "outputs": []
    },
    {
      "cell_type": "code",
      "source": [
        "def generate_prompt(competency):\n",
        "    return f\"\"\"\n",
        "You are an AI model trained to evaluate adult professional competencies in strategic learning impact and financial analysis.\n",
        "\n",
        "Evaluate the following competency: \"{competency}\"\n",
        "Mission: Analyze how estimating the financial cost of performance gaps enhances organizational decision-making and prioritization of learning investment.\n",
        "\n",
        "Your output must include:\n",
        "1. Semantic definition: what performance gap cost estimation entails, and how it connects to missed productivity, quality issues, and risk exposure\n",
        "2. Observable behaviors and analysis practices that show competency in identifying and quantifying gap-related losses\n",
        "3. Typical misapplications: vague assumptions, lack of business data, or reluctance to engage financial stakeholders — and how these weaken strategic buy-in\n",
        "4. Strategic actions: how to build credible cost estimation models, communicate losses ethically, and translate gaps into investment arguments\n",
        "\n",
        "Important:\n",
        "– Use language suitable for L&D analysts, financial controllers, and strategic business partners\n",
        "– Ground your answer in measurable dynamics — hours lost, error rates, operational delays\n",
        "– Your tone must reflect financial insight, ethical transparency, and strategic urgency\n",
        "\"\"\"\n"
      ],
      "metadata": {
        "id": "Ne7BJQZeBk6Q"
      },
      "execution_count": null,
      "outputs": []
    },
    {
      "cell_type": "code",
      "source": [
        "output = query_model(generate_prompt(\"Performance Gap Cost Estimation\"))\n",
        "print(output)\n"
      ],
      "metadata": {
        "id": "BLVxyuc8Bos7"
      },
      "execution_count": null,
      "outputs": []
    },
    {
      "cell_type": "code",
      "source": [
        "def generate_prompt(competency):\n",
        "    return f\"\"\"\n",
        "You are an AI model trained to evaluate adult learning competencies in organizational development.\n",
        "\n",
        "Evaluate the following cognitive competency: \"{competency}\"\n",
        "Mission: Analyze how skilled facilitation of adult learning fosters application, reflection, and meaningful behavioral change aligned with business goals.\n",
        "\n",
        "Your output must include:\n",
        "1. A semantic definition: what adult learning facilitation entails, and how it integrates adult learning theory, work relevance, and psychological safety\n",
        "2. Observable behaviors and facilitation techniques that reflect effective practice: learner ownership, scaffolding, active engagement, and transfer strategies\n",
        "3. Typical weaknesses: over-reliance on content delivery, lack of contextualization, facilitator dominance — and how these reduce impact and retention\n",
        "4. Strategic actions to improve facilitation: use of real-world problem solving, reflective cycles, autonomy-supportive design, and connection to role-based growth\n",
        "\n",
        "Important:\n",
        "– Use language suitable for leadership coaches, instructional designers, and workplace facilitators\n",
        "– Ground your answer in adult development theory, workplace realities, and practical strategies\n",
        "– Your tone must reflect human-centered insight, pedagogical depth, and professional empathy\n",
        "\"\"\"\n"
      ],
      "metadata": {
        "id": "4SUQfuGMB2uj"
      },
      "execution_count": null,
      "outputs": []
    },
    {
      "cell_type": "code",
      "source": [
        "output = query_model(generate_prompt(\"Adult Learning Facilitation\"))\n",
        "print(output)\n"
      ],
      "metadata": {
        "id": "d4CMib9MB6xq"
      },
      "execution_count": null,
      "outputs": []
    },
    {
      "cell_type": "code",
      "source": [
        "def generate_prompt(competency):\n",
        "    return f\"\"\"\n",
        "You are an AI model trained to evaluate adult professional competencies in cognitive reasoning and instructional design.\n",
        "\n",
        "Evaluate the following cognitive competency: \"{competency}\"\n",
        "Mission: Analyze how semantic reasoning and concept mapping enhance organizational thinking, instructional clarity, and strategic knowledge transfer.\n",
        "\n",
        "Your output must include:\n",
        "1. Semantic definition: what this competency entails in applied professional contexts — including the creation of concept maps, taxonomy building, and logical frameworks for meaning construction\n",
        "2. Observable professional behaviors and tools that reflect high semantic reasoning: cross-domain integration, abstraction layering, idea structuring\n",
        "3. Typical weaknesses: content-heavy delivery without structure, lack of logical flow, or misuse of visual mapping — and how these impair comprehension and knowledge transfer\n",
        "4. Strategic actions: how to foster semantic skills through reflective practice, mapping techniques, conceptual scaffolding, and dialogic reasoning in learning environments\n",
        "\n",
        "Important:\n",
        "– Use clear, cognitively precise language suitable for instructional designers, learning scientists, and strategic educators\n",
        "– Ground your answer in real-world professional applications — from curriculum design to strategic facilitation\n",
        "– Your tone must reflect intellectual depth, organizational relevance, and pedagogical elegance\n",
        "\"\"\"\n"
      ],
      "metadata": {
        "id": "s5Jbcm6YCL85"
      },
      "execution_count": null,
      "outputs": []
    },
    {
      "cell_type": "code",
      "source": [
        "output = query_model(generate_prompt(\"Semantic Reasoning & Concept Mapping\"))\n",
        "print(output)\n"
      ],
      "metadata": {
        "id": "uDUBdHjeCP35"
      },
      "execution_count": null,
      "outputs": []
    },
    {
      "cell_type": "code",
      "source": [
        "def generate_prompt(competency):\n",
        "    return f\"\"\"\n",
        "You are an AI model trained to evaluate adult professional competencies in adaptive cognition and learning transfer.\n",
        "\n",
        "Evaluate the following cognitive competency: \"{competency}\"\n",
        "Mission: Analyze how professionals transfer knowledge across domains to generate innovation, solve complex problems, and build strategic agility.\n",
        "\n",
        "Your output must include:\n",
        "1. Semantic definition: what cross-domain knowledge transfer entails in professional settings — including abstraction, pattern recognition, and adaptive application\n",
        "2. Observable behaviors and learning practices that reflect this competency: analogy-making, interdisciplinary dialogue, flexible re-use of concepts\n",
        "3. Typical limitations: siloed thinking, rigid expertise boundaries, lack of translation ability — and how these hinder innovation and team integration\n",
        "4. Strategic actions: how to develop this competency through problem-based learning, boundary-spanning collaboration, and cognitive scaffolding\n",
        "\n",
        "Important:\n",
        "– Use language suitable for L&D strategists, innovation leaders, and learning designers\n",
        "– Ground your answer in real organizational challenges where domain transfer creates value\n",
        "– Your tone must reflect intellectual versatility, organizational relevance, and ethical insight\n",
        "\"\"\"\n"
      ],
      "metadata": {
        "id": "j4AHGwRCC5Jv"
      },
      "execution_count": null,
      "outputs": []
    },
    {
      "cell_type": "code",
      "source": [
        "output = query_model(generate_prompt(\"Cross-Domain Knowledge Transfer\"))\n",
        "print(output)\n"
      ],
      "metadata": {
        "id": "UfX837zkC8eP"
      },
      "execution_count": null,
      "outputs": []
    },
    {
      "cell_type": "code",
      "source": [
        "def generate_prompt(competency):\n",
        "    return f\"\"\"\n",
        "You are an AI model trained to evaluate professional competencies in learning technology and ethical assessment design.\n",
        "\n",
        "Evaluate the following technological competency: \"{competency}\"\n",
        "Mission: Analyze how AI tools can be ethically and effectively integrated into the design of assessments that measure real-world competencies, growth potential, and workplace relevance.\n",
        "\n",
        "Your output must include:\n",
        "1. Semantic definition of this competency: how AI augments assessment design beyond automation — enabling adaptive testing, semantic evaluation, and personalized feedback\n",
        "2. Observable design practices and organizational behaviors that reflect this competency: use of LLMs, scenario-based evaluation, skill tagging, and interpretation of learner-generated data\n",
        "3. Common misalignments: over-reliance on metrics, lack of transparency, biased algorithmic scoring — and how these undermine ethical credibility and learning impact\n",
        "4. Strategic actions: how to design AI-augmented assessments with ethical safeguards, contextual fidelity, stakeholder trust, and actionable insight for development\n",
        "\n",
        "Important:\n",
        "– Use language suitable for EdTech designers, learning architects, and assessment strategists\n",
        "– Ground your answer in examples of AI-supported assessment practices in business learning\n",
        "– Your tone must reflect ethical integrity, technological literacy, and strategic clarity\n",
        "\"\"\"\n"
      ],
      "metadata": {
        "id": "5nnWBu_NDJC4"
      },
      "execution_count": null,
      "outputs": []
    },
    {
      "cell_type": "code",
      "source": [
        "output = query_model(generate_prompt(\"AI-Augmented Assessment Design\"))\n",
        "print(output)\n"
      ],
      "metadata": {
        "id": "uawZ_8ImDOB7"
      },
      "execution_count": null,
      "outputs": []
    },
    {
      "cell_type": "code",
      "source": [
        "def generate_prompt(competency):\n",
        "    return f\"\"\"\n",
        "You are an AI model trained to evaluate professional competencies in learning analytics and data visualization.\n",
        "\n",
        "Evaluate the following technological competency: \"{competency}\"\n",
        "Mission: Analyze how data visualization tools like Power BI are used to transform learning data into strategic insight, stakeholder engagement, and performance decisions.\n",
        "\n",
        "Your output must include:\n",
        "1. Semantic definition: what this competency entails — including the use of dashboards, learning metrics, and visual storytelling to support decision-making\n",
        "2. Observable design habits and data practices that signal effective use of visualization tools: relevance filtering, clarity, stakeholder alignment, predictive modeling\n",
        "3. Common misapplications: metric overload, poor visualization choices, lack of narrative framing — and how these reduce decision impact\n",
        "4. Strategic actions: how to build learning dashboards that reflect role-based growth, business priorities, and actionable ROI pathways\n",
        "\n",
        "Important:\n",
        "– Use language suitable for L&D analysts, business intelligence professionals, and organizational learning leaders\n",
        "– Anchor your output in practical data storytelling and stakeholder communication\n",
        "– Your tone must reflect analytical clarity, design intelligence, and strategic business relevance\n",
        "\"\"\"\n"
      ],
      "metadata": {
        "id": "xNgLcLBcDcCf"
      },
      "execution_count": null,
      "outputs": []
    },
    {
      "cell_type": "code",
      "source": [
        "output = query_model(generate_prompt(\"Power BI / Data Visualization for L&D\"))\n",
        "print(output)\n"
      ],
      "metadata": {
        "id": "e9edU25yDfZ1"
      },
      "execution_count": null,
      "outputs": []
    },
    {
      "cell_type": "code",
      "source": [
        "def generate_prompt(competency):\n",
        "    return f\"\"\"\n",
        "You are an AI model trained to evaluate professional competencies in learning platform agility and digital integration.\n",
        "\n",
        "Evaluate the following technological competency: \"{competency}\"\n",
        "Mission: Analyze how platform agility — including LMS proficiency, API integration, and microlearning design — enables scalable, adaptive, and business-aligned learning ecosystems.\n",
        "\n",
        "Your output must include:\n",
        "1. Semantic definition: what platform agility entails, and how it reflects operational fluency across tools, content formats, and integration layers\n",
        "2. Observable behaviors and design habits: rapid adaptation, cross-platform thinking, modular learning assembly, automation awareness\n",
        "3. Common weaknesses: tool fixation without ecosystem thinking, manual redundancy, poor instructional-technical collaboration — and how these reduce learning effectiveness\n",
        "4. Strategic actions: how to build platform agility through collaborative prototyping, digital fluency, architectural mapping, and microlearning alignment with performance goals\n",
        "\n",
        "Important:\n",
        "– Use language suitable for learning technologists, instructional designers, and digital transformation leaders\n",
        "– Anchor your answer in practical platform navigation, ecosystem thinking, and scalable learning infrastructure\n",
        "– Your tone must reflect operational clarity, strategic adaptability, and cross-functional professionalism\n",
        "\"\"\"\n"
      ],
      "metadata": {
        "id": "i0gdNuzED1KQ"
      },
      "execution_count": null,
      "outputs": []
    },
    {
      "cell_type": "code",
      "source": [
        "output = query_model(generate_prompt(\"Platform Agility (LMS / API / Microlearning\"))\n",
        "print(output)\n"
      ],
      "metadata": {
        "id": "L2vpTBeCD8Aj"
      },
      "execution_count": null,
      "outputs": []
    },
    {
      "cell_type": "code",
      "source": [
        "def generate_prompt(competency):\n",
        "    return f\"\"\"\n",
        "You are an AI model trained to evaluate professional competencies in coaching, mentoring, and strategic leadership development.\n",
        "\n",
        "Evaluate the following communicative competency: \"{competency}\"\n",
        "Mission: Analyze how professionals facilitate growth, reflection, and strategic evolution in others through leadership coaching and mentoring practices.\n",
        "\n",
        "Your output must include:\n",
        "1. Semantic definition: what this competency entails — including distinctions between coaching, mentoring, and sponsorship, and their alignment with leadership contexts\n",
        "2. Observable relational and behavioral markers: active listening, guided inquiry, contextual challenge, and role-model alignment\n",
        "3. Typical misapplications: advice-giving without strategic framework, hierarchical bias, lack of self-awareness — and how these limit transformational impact\n",
        "4. Strategic actions: how to foster leadership development through ethically grounded coaching conversations, personalized growth pathways, and reflective practices\n",
        "\n",
        "Important:\n",
        "– Use language suitable for leadership coaches, organizational psychologists, and senior learning professionals\n",
        "– Ground your answer in transformational leadership models and real workplace dynamics\n",
        "– Your tone must reflect emotional intelligence, developmental ethics, and strategic clarity\n",
        "\"\"\"\n"
      ],
      "metadata": {
        "id": "cryNgU52EKEP"
      },
      "execution_count": null,
      "outputs": []
    },
    {
      "cell_type": "code",
      "source": [
        "output = query_model(generate_prompt(\"Leadership Coaching & Mentoring\"))\n",
        "print(output)\n"
      ],
      "metadata": {
        "id": "eTK3Iu_fEOwh"
      },
      "execution_count": null,
      "outputs": []
    },
    {
      "cell_type": "code",
      "source": [
        "def generate_prompt(competency):\n",
        "    return f\"\"\"\n",
        "You are an AI model trained to evaluate professional competencies in strategic communication and learning influence.\n",
        "\n",
        "Evaluate the following communicative competency: \"{competency}\"\n",
        "Mission: Analyze how strategic messaging in learning enables alignment with business priorities, stakeholder engagement, and cultural resonance.\n",
        "\n",
        "Your output must include:\n",
        "1. Semantic definition: what strategic messaging entails in learning contexts — including framing, narrative design, and alignment with organizational language\n",
        "2. Observable communication behaviors: clarity, relevance, emotional tone, and ability to translate learning into strategic action\n",
        "3. Common misalignments: generic messaging, lack of stakeholder adaptation, overuse of jargon — and how these reduce learning credibility and impact\n",
        "4. Strategic actions: how to craft learning messages that resonate across roles, reinforce business goals, and foster meaningful engagement\n",
        "\n",
        "Important:\n",
        "– Use language suitable for L&D communicators, change agents, and strategic learning designers\n",
        "– Ground your answer in real organizational messaging challenges and cultural dynamics\n",
        "– Your tone must reflect narrative intelligence, strategic clarity, and ethical influence\n",
        "\"\"\"\n"
      ],
      "metadata": {
        "id": "mGJCZjboEhOP"
      },
      "execution_count": null,
      "outputs": []
    },
    {
      "cell_type": "code",
      "source": [
        "output = query_model(generate_prompt(\"Strategic Messaging in Learning\"))\n",
        "print(output)\n"
      ],
      "metadata": {
        "id": "hN7slDFwElPB"
      },
      "execution_count": null,
      "outputs": []
    },
    {
      "cell_type": "code",
      "source": [
        "def generate_prompt(competency):\n",
        "    return f\"\"\"\n",
        "You are an AI model trained to evaluate professional competencies in stakeholder engagement and strategic learning alignment.\n",
        "\n",
        "Evaluate the following communicative competency: \"{competency}\"\n",
        "Mission: Analyze how professionals secure stakeholder alignment and buy-in for learning initiatives that support business priorities and organizational change.\n",
        "\n",
        "Your output must include:\n",
        "1. Semantic definition: what stakeholder alignment and buy-in entail in learning contexts — including influence, shared ownership, and strategic positioning\n",
        "2. Observable behaviors and engagement practices: early involvement, co-design, narrative framing, and feedback integration\n",
        "3. Common misalignments: lack of stakeholder mapping, one-way communication, unclear value proposition — and how these reduce support and impact\n",
        "4. Strategic actions: how to build trust, communicate learning value, and align initiatives with stakeholder goals and organizational momentum\n",
        "\n",
        "Important:\n",
        "– Use language suitable for L&D strategists, change managers, and executive sponsors\n",
        "– Ground your answer in real organizational dynamics and decision-making processes\n",
        "– Your tone must reflect strategic empathy, influence literacy, and ethical clarity\n",
        "\"\"\"\n"
      ],
      "metadata": {
        "id": "MWvuG7-WEzl3"
      },
      "execution_count": null,
      "outputs": []
    },
    {
      "cell_type": "code",
      "source": [
        "output = query_model(generate_prompt(\"Stakeholder Alignment & Buy-In\"))\n",
        "print(output)\n"
      ],
      "metadata": {
        "id": "YkuC6xMEE3kI"
      },
      "execution_count": null,
      "outputs": []
    },
    {
      "cell_type": "code",
      "source": [
        "def generate_prompt(competency):\n",
        "    return f\"\"\"\n",
        "You are an AI model trained to evaluate professional competencies in systems thinking and organizational development.\n",
        "\n",
        "Evaluate the following behavioral competency: \"{competency}\"\n",
        "Mission: Analyze how systems thinking enables professionals to identify patterns, interdependencies, and leverage points within organizational learning ecosystems.\n",
        "\n",
        "Your output must include:\n",
        "1. Semantic definition: what systems thinking entails in the context of corporate learning — including holistic analysis, feedback loops, and second-order consequences\n",
        "2. Observable behaviors and analytical habits: root cause inquiry, scenario modeling, multi-stakeholder reasoning, and long-term strategic framing\n",
        "3. Common misapplications: reductionist problem solving, isolated intervention planning, and neglect of systemic consequences — and how these reduce learning sustainability\n",
        "4. Strategic actions: how to cultivate systems thinking through reflective mapping, feedback awareness, cross-functional collaboration, and model-based learning initiatives\n",
        "\n",
        "Important:\n",
        "– Use language suitable for organizational learning strategists, systems architects, and change facilitators\n",
        "– Ground your answer in organizational dynamics and complexity management\n",
        "– Your tone must reflect cognitive clarity, ethical foresight, and integrative intelligence\n",
        "\"\"\"\n"
      ],
      "metadata": {
        "id": "k_haU8FtFLlX"
      },
      "execution_count": null,
      "outputs": []
    },
    {
      "cell_type": "code",
      "source": [
        "output = query_model(generate_prompt(\"Systems Thinking\"))\n",
        "print(output)\n",
        "\n"
      ],
      "metadata": {
        "id": "vcU7wFeeFSDr"
      },
      "execution_count": null,
      "outputs": []
    },
    {
      "cell_type": "code",
      "source": [
        "def generate_prompt(competency):\n",
        "    return f\"\"\"\n",
        "You are an AI model trained to evaluate professional competencies in strategic behavior and organizational learning leadership.\n",
        "\n",
        "Evaluate the following behavioral competency: \"{competency}\"\n",
        "Mission: Analyze how strategic patience enables professionals to navigate complexity, foster long-term change, and maintain influence without immediate results.\n",
        "\n",
        "Your output must include:\n",
        "1. Semantic definition: what strategic patience entails — including time horizon awareness, emotional regulation, and the ability to work through cycles of ambiguity and resistance\n",
        "2. Observable behavioral markers: consistent alignment with goals despite setbacks, reflective pacing, trust-building over time, and tactical restraint\n",
        "3. Common misapplications: impatience disguised as urgency, reactive decision-making, or erosion of vision due to short-term pressure — and how these reduce strategic effectiveness\n",
        "4. Strategic actions: how to develop strategic patience through scenario planning, feedback rituals, delayed reward structures, and mentorship-based learning processes\n",
        "\n",
        "Important:\n",
        "– Use language suitable for strategic L&D leaders, change agents, and behavioral facilitators\n",
        "– Ground your output in real organizational dynamics and adaptive leadership contexts\n",
        "– Your tone must reflect psychological insight, strategic foresight, and ethical composure\n",
        "\"\"\"\n"
      ],
      "metadata": {
        "id": "_z4aCD70FxBM"
      },
      "execution_count": null,
      "outputs": []
    },
    {
      "cell_type": "code",
      "source": [
        "output = query_model(generate_prompt(\"Strategic Patience\"))\n",
        "print(output)\n"
      ],
      "metadata": {
        "id": "irSai829F1a9"
      },
      "execution_count": null,
      "outputs": []
    },
    {
      "cell_type": "code",
      "source": [
        "def generate_prompt(competency):\n",
        "    return f\"\"\"\n",
        "You are an AI model trained to evaluate professional competencies in ethical reasoning and educational technology.\n",
        "\n",
        "Evaluate the following behavioral competency: \"{competency}\"\n",
        "Mission: Analyze how ethical reasoning in EdTech enables professionals to design, implement, and evaluate learning technologies with integrity, transparency, and societal awareness.\n",
        "\n",
        "Your output must include:\n",
        "1. Semantic definition: what ethical reasoning entails in EdTech — including fairness, data responsibility, learner dignity, and long-term societal impact\n",
        "2. Observable behaviors and design choices: consent awareness, bias mitigation, inclusive access, and ethical feedback mechanisms\n",
        "3. Common ethical failures: opaque algorithms, exploitative engagement models, neglect of learner agency — and how these erode trust and learning value\n",
        "4. Strategic actions: how to foster ethical reasoning through stakeholder dialogue, ethical design frameworks, and continuous reflection on technology’s role in learning\n",
        "\n",
        "Important:\n",
        "– Use language suitable for EdTech leaders, instructional designers, and digital ethics advocates\n",
        "– Ground your answer in real-world technology use and educational impact\n",
        "– Your tone must reflect ethical clarity, systemic awareness, and human-centered design thinking\n",
        "\"\"\"\n"
      ],
      "metadata": {
        "id": "aC5-YeNiGLFJ"
      },
      "execution_count": null,
      "outputs": []
    },
    {
      "cell_type": "code",
      "source": [
        "output = query_model(generate_prompt(\"Ethical Reasoning in EdTech\"))\n",
        "print(output)\n"
      ],
      "metadata": {
        "id": "FpOLntLlGOxY"
      },
      "execution_count": null,
      "outputs": []
    },
    {
      "cell_type": "code",
      "source": [
        "def generate_prompt(competency):\n",
        "    return f\"\"\"\n",
        "You are an AI model trained to evaluate adult professional competencies in corporate contexts.\n",
        "\n",
        "Evaluate the following competency: \"{competency}\"\n",
        "Mission: Determine how this skill contributes to measurable business value.\n",
        "\n",
        "Your output must include:\n",
        "1. Semantic definition in applied business context (how it works in strategy, retention, innovation)\n",
        "2. Observable behaviors that signal presence of this competency (not just intention)\n",
        "3. Typical misalignments or weak implementations — and how they affect ROI\n",
        "4. Development strategies that increase business contribution and cross-functional impact\n",
        "\n",
        "Important:\n",
        "– Use language suitable for senior L&D professionals and business stakeholders.\n",
        "– Avoid jargon. Ground your output in real organizational dynamics.\n",
        "– Your tone should reflect ethical clarity and cognitive respect.\n",
        "\"\"\"\n"
      ],
      "metadata": {
        "id": "0d5e8PjJ0WK-"
      },
      "execution_count": null,
      "outputs": []
    },
    {
      "cell_type": "code",
      "source": [
        "print(generate_prompt(\"Business-Aligned Learning Strategy\"))\n"
      ],
      "metadata": {
        "id": "2SMP7Bfs0_SL"
      },
      "execution_count": null,
      "outputs": []
    },
    {
      "cell_type": "code",
      "source": [
        "import requests\n",
        "\n",
        "def generate_prompt(competency):\n",
        "    return f\"\"\"\n",
        "You are an AI model trained to evaluate adult professional competencies in corporate contexts.\n",
        "\n",
        "Evaluate the following competency: \"{competency}\"\n",
        "Mission: Determine how this skill contributes to measurable business value.\n",
        "\n",
        "Your output must include:\n",
        "1. Semantic definition in applied business context (how it works in strategy, retention, innovation)\n",
        "2. Observable behaviors that signal presence of this competency (not just intention)\n",
        "3. Typical misalignments or weak implementations — and how they affect ROI\n",
        "4. Development strategies that increase business contribution and cross-functional impact\n",
        "\n",
        "Important:\n",
        "– Use language suitable for senior L&D professionals and business stakeholders.\n",
        "– Avoid jargon. Ground your output in real organizational dynamics.\n",
        "– Your tone should reflect ethical clarity and cognitive respect.\n",
        "\"\"\"\n",
        "\n",
        "def query_model(prompt_text):\n",
        "    response = requests.post(\n",
        "        \"https://api.together.xyz/inference\",\n",
        "        headers={\n",
        "            \"Authorization\": f\"Bearer {os.getenv('MY_API_KEY')}\",\n",
        "            \"Content-Type\": \"application/json\"\n",
        "        },\n",
        "        json={\n",
        "            \"model\": \"mistralai/Mistral-7B-Instruct-v0.2\",\n",
        "            \"prompt\": prompt_text,\n",
        "            \"max_tokens\": 1024,\n",
        "            \"temperature\": 0.7\n",
        "        }\n",
        "    )\n",
        "    return response.json()[\"output\"][\"choices\"][0][\"text\"]\n",
        "\n",
        "\n",
        "# 🔎 Запуск запроса на первую компетенцию\n",
        "output = query_model(generate_prompt(\"Business-Aligned Learning Strategy\"))\n",
        "print(output)\n"
      ],
      "metadata": {
        "id": "zPlDMQlq2Uwy"
      },
      "execution_count": null,
      "outputs": []
    },
    {
      "cell_type": "code",
      "source": [],
      "metadata": {
        "id": "ZBO6jsVxaXh3"
      },
      "execution_count": null,
      "outputs": []
    }
  ]
}